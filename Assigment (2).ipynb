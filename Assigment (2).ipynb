{
 "cells": [
  {
   "cell_type": "code",
   "execution_count": 1,
   "id": "6ce017d6-16c5-41d1-b9f2-7e0db28b7043",
   "metadata": {},
   "outputs": [
    {
     "name": "stdout",
     "output_type": "stream",
     "text": [
      "Hello world\n"
     ]
    }
   ],
   "source": [
    "print ('Hello world')"
   ]
  },
  {
   "cell_type": "code",
   "execution_count": 2,
   "id": "e003c6b6-ca1e-467f-8a18-1760f323b4e5",
   "metadata": {},
   "outputs": [
    {
     "data": {
      "text/plain": [
       "8"
      ]
     },
     "execution_count": 2,
     "metadata": {},
     "output_type": "execute_result"
    }
   ],
   "source": [
    "5+3"
   ]
  },
  {
   "cell_type": "code",
   "execution_count": null,
   "id": "46a93c16-5576-43dc-8a7c-1ddcc0173925",
   "metadata": {},
   "outputs": [],
   "source": [
    "import pandas as pd"
   ]
  },
  {
   "cell_type": "code",
   "execution_count": null,
   "id": "4096687e-827a-4bc7-965f-34639055f6d7",
   "metadata": {},
   "outputs": [],
   "source": [
    "import altair as alt"
   ]
  },
  {
   "cell_type": "code",
   "execution_count": null,
   "id": "943e296a-7532-42f4-b01a-2e6a9139bd8f",
   "metadata": {},
   "outputs": [],
   "source": [
    "def arithmetic_mean(sequence):\n",
    "    s = 0.0\n",
    "    for element in sequence:\n",
    "        s += element\n",
    "    n = len(sequence)\n",
    "    return s / n"
   ]
  },
  {
   "cell_type": "markdown",
   "id": "27a7830d-e61b-4932-b7c0-1fc0074e2edc",
   "metadata": {},
   "source": [
    "# Title of my notebook\n",
    "\n",
    "Some text.\n",
    "\n",
    "![Photo of Galilei's manuscript](https://upload.wikimedia.org/wikipedia/commons/b/b3/Galileo_Galilei_%281564_-_1642%29_-_Serenissimo_Principe_-_manuscript_with_observations_of_Jupiter_and_four_of_its_moons%2C_1610.png)\n",
    "\n",
    "$E = mc^2$"
   ]
  },
  {
   "cell_type": "code",
   "execution_count": null,
   "id": "3de51c9d-e160-48a4-93d1-2fe8fcf08d60",
   "metadata": {},
   "outputs": [],
   "source": [
    "# this example is from https://altair-viz.github.io/gallery/layered_histogram.html\n",
    "\n",
    "import pandas as pd\n",
    "import altair as alt\n",
    "import numpy as np\n",
    "np.random.seed(42)\n",
    "\n",
    "# Generating Data\n",
    "source = pd.DataFrame({\n",
    "    'Trial A': np.random.normal(0, 0.8, 1000),\n",
    "    'Trial B': np.random.normal(-2, 1, 1000),\n",
    "    'Trial C': np.random.normal(3, 2, 1000)\n",
    "})\n",
    "\n",
    "alt.Chart(source).transform_fold(\n",
    "    ['Trial A', 'Trial B', 'Trial C'],\n",
    "    as_=['Experiment', 'Measurement']\n",
    ").mark_bar(\n",
    "    opacity=0.3,\n",
    "    binSpacing=0\n",
    ").encode(\n",
    "    alt.X('Measurement:Q').bin(maxbins=100),\n",
    "    alt.Y('count()').stack(None),\n",
    "    alt.Color('Experiment:N')\n",
    ")"
   ]
  },
  {
   "cell_type": "markdown",
   "id": "f0b55815-3a90-4686-b883-0c5ef1c37a72",
   "metadata": {},
   "source": [
    "files = [\n",
    "    \"Final Report V2!.xlsx\",\n",
    "    \"data summary 2023 .csv\",\n",
    "    \"RESULTS-supplementary,materials.csv\",\n",
    "    \"clean_data.csv\",\n",
    "    \"code%python.py\",\n",
    "    \"code#for#%plots.py\",\n",
    "    \"figure1.eps\",\n",
    "    \"figure2.eps\",\n",
    "    \"figure2&.eps\",\n",
    "    \"figure2_.eps\"\n",
    "]"
   ]
  },
  {
   "cell_type": "code",
   "execution_count": null,
   "id": "cfc470c4-28d1-4c1c-b5d8-ac4a4d5ee75b",
   "metadata": {},
   "outputs": [],
   "source": []
  }
 ],
 "metadata": {
  "kernelspec": {
   "display_name": "Python 3 (ipykernel)",
   "language": "python",
   "name": "python3"
  },
  "language_info": {
   "codemirror_mode": {
    "name": "ipython",
    "version": 3
   },
   "file_extension": ".py",
   "mimetype": "text/x-python",
   "name": "python",
   "nbconvert_exporter": "python",
   "pygments_lexer": "ipython3",
   "version": "3.11.9"
  }
 },
 "nbformat": 4,
 "nbformat_minor": 5
}
